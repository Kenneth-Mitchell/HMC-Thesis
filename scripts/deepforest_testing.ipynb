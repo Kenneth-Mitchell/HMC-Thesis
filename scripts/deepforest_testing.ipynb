{
 "cells": [
  {
   "cell_type": "code",
   "execution_count": 1,
   "metadata": {},
   "outputs": [
    {
     "name": "stdout",
     "output_type": "stream",
     "text": [
      "Reading config file: /home/kmitchell/miniconda3/envs/micropheno/lib/python3.11/site-packages/deepforest/data/deepforest_config.yml\n"
     ]
    },
    {
     "name": "stderr",
     "output_type": "stream",
     "text": [
      "GPU available: True (cuda), used: True\n",
      "TPU available: False, using: 0 TPU cores\n",
      "IPU available: False, using: 0 IPUs\n",
      "HPU available: False, using: 0 HPUs\n"
     ]
    },
    {
     "name": "stdout",
     "output_type": "stream",
     "text": [
      "No validation file provided. Turning off validation loop\n"
     ]
    },
    {
     "name": "stderr",
     "output_type": "stream",
     "text": [
      "/home/kmitchell/miniconda3/envs/micropheno/lib/python3.11/site-packages/pytorch_lightning/trainer/connectors/logger_connector/logger_connector.py:67: Starting from v1.9.0, `tensorboardX` has been removed as a dependency of the `pytorch_lightning` package, due to potential conflicts with other packages in the ML ecosystem. For this reason, `logger=True` will use `CSVLogger` as the default logger, unless the `tensorboard` or `tensorboardX` packages are found. Please `pip install lightning[extra]` or one of them to enable TensorBoard support by default\n"
     ]
    },
    {
     "name": "stdout",
     "output_type": "stream",
     "text": [
      "Model from DeepForest release https://github.com/weecology/DeepForest/releases/tag/1.0.0 was already downloaded. Loading model from file.\n",
      "Loading pre-built model: https://github.com/weecology/DeepForest/releases/tag/1.0.0\n"
     ]
    }
   ],
   "source": [
    "sample_image_path = \"/mnt/c/Users/kmitchell/Documents/GitHub/Thesis/input_data/rgb_test/2021_GRSM_5_267000_3942000_image.tif\"\n",
    "from deepforest import main\n",
    "from deepforest import get_data\n",
    "from deepforest import utilities\n",
    "import matplotlib.pyplot as plt\n",
    "import rasterio\n",
    "import rasterio.features\n",
    "import rasterio.warp\n",
    "import os\n",
    "model = main.deepforest()\n",
    "model.use_release()"
   ]
  },
  {
   "cell_type": "code",
   "execution_count": 13,
   "metadata": {},
   "outputs": [
    {
     "name": "stdout",
     "output_type": "stream",
     "text": [
      "Reading config file: /home/kmitchell/miniconda3/envs/micropheno/lib/python3.11/site-packages/deepforest/data/deepforest_config.yml\n"
     ]
    },
    {
     "name": "stderr",
     "output_type": "stream",
     "text": [
      "GPU available: True (cuda), used: True\n",
      "TPU available: False, using: 0 TPU cores\n",
      "IPU available: False, using: 0 IPUs\n",
      "HPU available: False, using: 0 HPUs\n"
     ]
    },
    {
     "name": "stdout",
     "output_type": "stream",
     "text": [
      "No validation file provided. Turning off validation loop\n",
      "Model from DeepForest release https://github.com/weecology/DeepForest/releases/tag/1.0.0 was already downloaded. Loading model from file.\n",
      "Loading pre-built model: https://github.com/weecology/DeepForest/releases/tag/1.0.0\n"
     ]
    },
    {
     "name": "stderr",
     "output_type": "stream",
     "text": [
      "LOCAL_RANK: 0 - CUDA_VISIBLE_DEVICES: [0]\n"
     ]
    },
    {
     "name": "stdout",
     "output_type": "stream",
     "text": [
      "Predicting DataLoader 0: 100%|██████████| 729/729 [00:15<00:00, 47.53it/s]\n",
      "20346 predictions in overlapping windows, applying non-max supression\n",
      "11628 predictions kept after non-max suppression\n"
     ]
    },
    {
     "name": "stderr",
     "output_type": "stream",
     "text": [
      "/home/kmitchell/miniconda3/envs/micropheno/lib/python3.11/site-packages/deepforest/visualize.py:118: UserWarning: Input images must be channels last format [h, w, 3] not channels first [3, h, w], using np.rollaxis(image, 0, 3) to invert!\n",
      "  warnings.warn(\"Input images must be channels last format [h, w, 3] not channels \"\n",
      "/home/kmitchell/miniconda3/envs/micropheno/lib/python3.11/site-packages/deepforest/visualize.py:126: UserWarning: No color was provided and the label column is not numeric. Using a single default color.\n",
      "  warnings.warn(\"No color was provided and the label column is not numeric. \"\n"
     ]
    }
   ],
   "source": [
    "\n",
    "\n",
    "model = main.deepforest()\n",
    "model.use_release()\n",
    "\n",
    "sample_image = get_data(sample_image_path)\n",
    "\n",
    "img = model.predict_tile(sample_image, return_plot = True, patch_size=500,patch_overlap=0.25)\n",
    "plt.imsave(f\"output3_patch_size=500_patch_overlap=0.25.png\", img[:,:,::-1])\n",
    "\n",
    "#predict_image returns plot in BlueGreenRed (opencv style), but matplotlib likes RedGreenBlue, switch the channel order. Many functions in deepforest will automatically perform this flip for you and give a warning.\n",
    "# plt.imshow(img[:,:,::-1])\n",
    "# plt.imsave(f\"output2_patch_size=500_patch_overlap=0.1.png\", img[:,:,::-1])"
   ]
  },
  {
   "cell_type": "code",
   "execution_count": 3,
   "metadata": {},
   "outputs": [
    {
     "name": "stderr",
     "output_type": "stream",
     "text": [
      "LOCAL_RANK: 0 - CUDA_VISIBLE_DEVICES: [0]\n",
      "/home/kmitchell/miniconda3/envs/micropheno/lib/python3.11/site-packages/pytorch_lightning/trainer/connectors/data_connector.py:441: The 'predict_dataloader' does not have many workers which may be a bottleneck. Consider increasing the value of the `num_workers` argument` to `num_workers=31` in the `DataLoader` to improve performance.\n"
     ]
    },
    {
     "name": "stdout",
     "output_type": "stream",
     "text": [
      "Predicting DataLoader 0: 100%|██████████| 729/729 [00:14<00:00, 50.76it/s]\n",
      "20346 predictions in overlapping windows, applying non-max supression\n",
      "11628 predictions kept after non-max suppression\n",
      "[ 267294.65 3941999.95  268000.05 3942999.95]\n",
      "PROJCS[\"WGS 84 / UTM zone 17N\",GEOGCS[\"WGS 84\",DATUM[\"World Geodetic System 1984\",SPHEROID[\"WGS 84\",6378137,298.257223563]],PRIMEM[\"Greenwich\",0],UNIT[\"degree\",0.0174532925199433,AUTHORITY[\"EPSG\",\"9122\"]]],PROJECTION[\"Transverse_Mercator\"],PARAMETER[\"latitude_of_origin\",0],PARAMETER[\"central_meridian\",-81],PARAMETER[\"scale_factor\",0.9996],PARAMETER[\"false_easting\",500000],PARAMETER[\"false_northing\",0],UNIT[\"metre\",1,AUTHORITY[\"EPSG\",\"9001\"]],AXIS[\"Easting\",EAST],AXIS[\"Northing\",NORTH]]\n"
     ]
    },
    {
     "name": "stderr",
     "output_type": "stream",
     "text": [
      "/home/kmitchell/miniconda3/envs/micropheno/lib/python3.11/site-packages/deepforest/utilities.py:476: UserWarning: This method is deprecated and will be removed in version DeepForest 2.0.0, please use boxes_to_shapefile which unifies project_boxes and annotations_to_shapefile functionalities\n",
      "  warnings.warn(\"This method is deprecated and will be \"\n"
     ]
    }
   ],
   "source": [
    "sample_image_path = \"/mnt/c/Users/kmitchell/Documents/GitHub/Thesis/input_data/rgb_test/2021_GRSM_5_267000_3942000_image.tif\"\n",
    "\n",
    "sample_image = get_data(sample_image_path)\n",
    "\n",
    "predictions = model.predict_tile(sample_image, patch_size=500,patch_overlap=0.25)\n",
    "\n",
    "with rasterio.open(sample_image_path) as df:\n",
    "    transform = df.transform\n",
    "    crs = df.crs\n",
    "    gdf = utilities.annotations_to_shapefile(predictions, transform=transform, crs=crs)\n",
    "    print(gdf.total_bounds)\n",
    "    print(gdf.crs)\n",
    "    # CRS.from_epsg(32617)"
   ]
  },
  {
   "cell_type": "code",
   "execution_count": 48,
   "metadata": {},
   "outputs": [],
   "source": [
    "\n",
    "output_dir = \"bounding_box_images\"\n",
    "os.makedirs(output_dir, exist_ok=True)\n",
    "# Sort the dataframe by score and filter to top 500\n",
    "gdf = gdf.sort_values(by=\"score\", ascending=False)\n",
    "gdf = gdf.head(500)\n",
    "\n",
    "\n",
    "# Open the original image\n",
    "with rasterio.open(sample_image_path) as src:\n",
    "    # Loop through each bounding box in the gdf dataframe\n",
    "    for index, row in gdf.iterrows():\n",
    "        \n",
    "        # Get the score of the bounding box\n",
    "        score = row['score']\n",
    "        # Get the bounding box coordinates\n",
    "        xmin, ymin, xmax, ymax = row['xmin'], row['ymin'], row['xmax'], row['ymax']\n",
    "\n",
    "        # Create a rasterio window for the bounding box\n",
    "        window=rasterio.windows.Window(xmin, ymin, xmax - xmin, ymax - ymin)\n",
    "\n",
    "        # Read the subset of the image within the bounding box\n",
    "        subset = src.read(window=window)\n",
    "\n",
    "\n",
    "\n",
    "        # Create a new rasterio dataset for the subset\n",
    "        subset_dataset = rasterio.open(\n",
    "            f\"{output_dir}/bounding_box_{index}_score={score}.tif\",\n",
    "            'w',\n",
    "            driver='GTiff',\n",
    "            height=subset.shape[1],\n",
    "            width=subset.shape[2],\n",
    "            count=subset.shape[0],\n",
    "            dtype=subset.dtype,\n",
    "            crs=src.crs,\n",
    "            transform=src.window_transform(window)\n",
    "        )\n",
    "        \n",
    "        # Write the subset to the new dataset\n",
    "        subset_dataset.write(subset)\n",
    "        subset_dataset.close()\n",
    "        \n"
   ]
  },
  {
   "cell_type": "code",
   "execution_count": 1,
   "metadata": {},
   "outputs": [],
   "source": [
    "from bbox import Image\n",
    "sample_image_path = \"/mnt/c/Users/kmitchell/Documents/GitHub/Thesis/input_data/rgb_test/2021_GRSM_5_267000_3942000_image.tif\""
   ]
  },
  {
   "cell_type": "code",
   "execution_count": 2,
   "metadata": {},
   "outputs": [
    {
     "name": "stdout",
     "output_type": "stream",
     "text": [
      "Reading config file: /home/kmitchell/miniconda3/envs/micropheno/lib/python3.11/site-packages/deepforest/data/deepforest_config.yml\n"
     ]
    },
    {
     "name": "stderr",
     "output_type": "stream",
     "text": [
      "GPU available: True (cuda), used: True\n",
      "TPU available: False, using: 0 TPU cores\n",
      "IPU available: False, using: 0 IPUs\n",
      "HPU available: False, using: 0 HPUs\n"
     ]
    },
    {
     "name": "stdout",
     "output_type": "stream",
     "text": [
      "No validation file provided. Turning off validation loop\n"
     ]
    },
    {
     "name": "stderr",
     "output_type": "stream",
     "text": [
      "/home/kmitchell/miniconda3/envs/micropheno/lib/python3.11/site-packages/pytorch_lightning/trainer/connectors/logger_connector/logger_connector.py:67: Starting from v1.9.0, `tensorboardX` has been removed as a dependency of the `pytorch_lightning` package, due to potential conflicts with other packages in the ML ecosystem. For this reason, `logger=True` will use `CSVLogger` as the default logger, unless the `tensorboard` or `tensorboardX` packages are found. Please `pip install lightning[extra]` or one of them to enable TensorBoard support by default\n"
     ]
    },
    {
     "name": "stdout",
     "output_type": "stream",
     "text": [
      "Model from DeepForest release https://github.com/weecology/DeepForest/releases/tag/1.0.0 was already downloaded. Loading model from file.\n",
      "Loading pre-built model: https://github.com/weecology/DeepForest/releases/tag/1.0.0\n"
     ]
    }
   ],
   "source": [
    "img = Image(sample_image_path)"
   ]
  },
  {
   "cell_type": "code",
   "execution_count": 3,
   "metadata": {},
   "outputs": [
    {
     "ename": "",
     "evalue": "",
     "output_type": "error",
     "traceback": [
      "\u001b[1;31mThe Kernel crashed while executing code in the current cell or a previous cell. \n",
      "\u001b[1;31mPlease review the code in the cell(s) to identify a possible cause of the failure. \n",
      "\u001b[1;31mClick <a href='https://aka.ms/vscodeJupyterKernelCrash'>here</a> for more info. \n",
      "\u001b[1;31mView Jupyter <a href='command:jupyter.viewOutput'>log</a> for further details."
     ]
    }
   ],
   "source": [
    "img.get_bounding_boxes()"
   ]
  },
  {
   "cell_type": "code",
   "execution_count": 16,
   "metadata": {},
   "outputs": [
    {
     "name": "stderr",
     "output_type": "stream",
     "text": [
      "LOCAL_RANK: 0 - CUDA_VISIBLE_DEVICES: [0]\n",
      "/home/kmitchell/miniconda3/envs/micropheno/lib/python3.11/site-packages/pytorch_lightning/trainer/connectors/data_connector.py:441: The 'predict_dataloader' does not have many workers which may be a bottleneck. Consider increasing the value of the `num_workers` argument` to `num_workers=31` in the `DataLoader` to improve performance.\n"
     ]
    },
    {
     "name": "stdout",
     "output_type": "stream",
     "text": [
      "Predicting DataLoader 0: 100%|██████████| 729/729 [00:13<00:00, 54.74it/s]\n",
      "0 predictions in overlapping windows, applying non-max supression\n",
      "0 predictions kept after non-max suppression\n"
     ]
    },
    {
     "name": "stderr",
     "output_type": "stream",
     "text": [
      "/home/kmitchell/miniconda3/envs/micropheno/lib/python3.11/site-packages/deepforest/utilities.py:476: UserWarning: This method is deprecated and will be removed in version DeepForest 2.0.0, please use boxes_to_shapefile which unifies project_boxes and annotations_to_shapefile functionalities\n",
      "  warnings.warn(\"This method is deprecated and will be \"\n"
     ]
    }
   ],
   "source": [
    "img.get_bounding_boxes()"
   ]
  }
 ],
 "metadata": {
  "kernelspec": {
   "display_name": "Python 3",
   "language": "python",
   "name": "python3"
  },
  "language_info": {
   "codemirror_mode": {
    "name": "ipython",
    "version": 3
   },
   "file_extension": ".py",
   "mimetype": "text/x-python",
   "name": "python",
   "nbconvert_exporter": "python",
   "pygments_lexer": "ipython3",
   "version": "3.11.7"
  }
 },
 "nbformat": 4,
 "nbformat_minor": 2
}
